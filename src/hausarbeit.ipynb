{
 "cells": [
  {
   "cell_type": "code",
   "execution_count": null,
   "metadata": {},
   "outputs": [],
   "source": []
  },
  {
   "cell_type": "markdown",
   "metadata": {},
   "source": [
    "---\n",
    "- ToC\n",
    "- Intro\n",
    "- Methodik\n",
    "- EDA + Process Model\n",
    "    - Process durations (min max / avg) + metrics dom vs int \n",
    "    - -> bottleneck\n",
    "    - Top 3 Traces to Process modell -> confromance check\n",
    "    - rejected applications\n",
    "    - unexpected behaviour\n",
    "\n",
    "- missing details\n",
    "- ML\n",
    "- KPis\n",
    "- process improvement\n",
    "---"
   ]
  }
 ],
 "metadata": {
  "language_info": {
   "name": "python"
  },
  "orig_nbformat": 4
 },
 "nbformat": 4,
 "nbformat_minor": 2
}
