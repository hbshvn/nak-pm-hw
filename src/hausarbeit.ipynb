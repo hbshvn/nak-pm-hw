{
 "cells": [
  {
   "cell_type": "markdown",
   "metadata": {},
   "source": [
    "---\n",
    "- ToC\n",
    "- Intro\n",
    "- Methodik\n",
    "- EDA + Process Model\n",
    "    - Process durations (min max / avg) + metrics dom vs int \n",
    "    - -> bottleneck\n",
    "    - Top 3 Traces to Process modell -> confromance check\n",
    "    - rejected applications\n",
    "    - unexpected behaviour\n",
    "\n",
    "- missing details\n",
    "- ML\n",
    "- KPis\n",
    "- process improvement\n",
    "---"
   ]
  },
  {
   "cell_type": "markdown",
   "metadata": {},
   "source": [
    "### Current Topics in main:\n",
    "\n",
    "- Comparison dom vs int\n",
    "- each Top 5 Variants\n",
    "\n",
    "statistical analysis\n",
    "\n",
    "- Head + description of column names (dom/)\n",
    "- EDA (dom)\n",
    "    - add: view_events_per_time-graph\n",
    "- BPMN (dom)\n",
    "- Process Tree (dom)\n",
    "- (petri net) (dom)\n",
    "- DFG (dom)\n",
    "\n",
    "Process duration\n",
    "\n",
    "- avg duration of whole process (dom)\n",
    "- avg duration of each activity (dom)\n",
    "- total durations of each activity (dom)\n",
    "- unexpected behaviour : saved by employee (dom)\n",
    "\n",
    "bottleneck (dom)\n",
    "\n",
    "- dfg graph with durations\n",
    "- insights from dfg\n",
    "- insights from disco\n",
    "- additonal remarks → unexpexted behaviour\n",
    "\n",
    "rejected applications\n",
    "\n",
    "- amount of rejection total (dom)\n",
    "- amount of rejections based on role (dom)\n",
    "- boxplot rejquested amount of rejected delcarations by role (dom)\n",
    "- boxplot rejquested amount of approved delcarations by role (dom)\n",
    "- Distribution of requested amount of rejected vs approved cases (dom)\n",
    "---"
   ]
  },
  {
   "cell_type": "markdown",
   "metadata": {},
   "source": [
    "## Introduction\n"
   ]
  },
  {
   "cell_type": "markdown",
   "metadata": {},
   "source": [
    "---\n",
    "## Methodology"
   ]
  },
  {
   "cell_type": "markdown",
   "metadata": {},
   "source": [
    "---\n",
    "## Exploratory Data Analysis"
   ]
  },
  {
   "cell_type": "markdown",
   "metadata": {},
   "source": [
    "### Import"
   ]
  },
  {
   "cell_type": "markdown",
   "metadata": {},
   "source": [
    "### Setup of logfiles"
   ]
  },
  {
   "cell_type": "markdown",
   "metadata": {},
   "source": [
    "### Description of Columns: Domestic vs. International"
   ]
  },
  {
   "cell_type": "markdown",
   "metadata": {},
   "source": [
    "### Comparison of Roles: Domestic vs. International"
   ]
  },
  {
   "cell_type": "markdown",
   "metadata": {},
   "source": [
    "### Comparison of Activities: Domestic vs. International"
   ]
  },
  {
   "cell_type": "markdown",
   "metadata": {},
   "source": [
    "### Comparison of Variants: Domestic vs. International"
   ]
  },
  {
   "cell_type": "markdown",
   "metadata": {},
   "source": [
    "### Event Count by Resource: Domestic vs. International"
   ]
  },
  {
   "cell_type": "markdown",
   "metadata": {},
   "source": [
    "### System Events: Domestic vs. International"
   ]
  },
  {
   "cell_type": "markdown",
   "metadata": {},
   "source": [
    "### Amount Destribution: Domestic vs. International"
   ]
  },
  {
   "cell_type": "markdown",
   "metadata": {},
   "source": [
    "### Events per Time Graph: Domestic vs. International"
   ]
  },
  {
   "cell_type": "markdown",
   "metadata": {},
   "source": [
    "---\n",
    "## Process Model(s)\n",
    "### Petri Net or DFG\n",
    "### Start + End Activities\n",
    "### Unexpected Behaviour (only one case of...)\n",
    "### Recycled declarations"
   ]
  },
  {
   "cell_type": "markdown",
   "metadata": {},
   "source": [
    "### Differences between international and domestic declarations"
   ]
  },
  {
   "cell_type": "markdown",
   "metadata": {},
   "source": [
    "---\n",
    "## Specific Questions"
   ]
  },
  {
   "cell_type": "markdown",
   "metadata": {},
   "source": [
    "### How long do the different process instances take? Are there any notable patterns?\n",
    "- Average durations of the whole process\n",
    "- Average duration of each activity\n",
    "- Total duration of each activity \n",
    "> (Put visualization of avg + total durations next to each other)\n",
    "- Unexpected behaviour: e.g. \"Saved by employee\" (dom)"
   ]
  },
  {
   "cell_type": "markdown",
   "metadata": {},
   "source": [
    "### Are there any bottlenecks? If yes, where? If yes, can you think of any reasons?\n",
    "- dfg graph with durations\n",
    "- insights from dfg\n",
    "- insight from diso"
   ]
  },
  {
   "cell_type": "markdown",
   "metadata": {},
   "source": [
    "### How many applications get rejected? Can you find any reasons?\n",
    "- amount of rejection total\n",
    "- amount of rejections based on role\n",
    "- boxplot rejquested amount of rejected delcarations by role\n",
    "- boxplot rejquested amount of approved delcarations by role\n",
    "- Distribution of requested amount of rejected vs approved cases"
   ]
  },
  {
   "cell_type": "markdown",
   "metadata": {},
   "source": [
    "### Are there any patterns that would suggest non-conformance?\n",
    "- TBD"
   ]
  },
  {
   "cell_type": "markdown",
   "metadata": {},
   "source": [
    "### Social Network / Handover Network\n",
    "- TBD"
   ]
  },
  {
   "cell_type": "markdown",
   "metadata": {},
   "source": [
    "---\n",
    "### What is missing to provide more detailed insights into the processes?\n",
    "- TBD"
   ]
  },
  {
   "cell_type": "markdown",
   "metadata": {},
   "source": [
    "### Reflect on where supervised / unsupervised machine learning techniques could help to obtain further insights.\n",
    "- TBD"
   ]
  },
  {
   "cell_type": "markdown",
   "metadata": {},
   "source": [
    "### Can you think of useful KPIs for the processes?\n",
    "- TBD"
   ]
  },
  {
   "cell_type": "markdown",
   "metadata": {},
   "source": [
    "### Make specific recommendations for improving the processes.\n",
    "- TBD"
   ]
  },
  {
   "cell_type": "markdown",
   "metadata": {},
   "source": [
    "---\n",
    "## Conclusion"
   ]
  }
 ],
 "metadata": {
  "language_info": {
   "name": "python"
  },
  "orig_nbformat": 4
 },
 "nbformat": 4,
 "nbformat_minor": 2
}
